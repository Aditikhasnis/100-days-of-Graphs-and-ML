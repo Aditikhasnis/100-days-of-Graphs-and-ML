{
  "nbformat": 4,
  "nbformat_minor": 0,
  "metadata": {
    "colab": {
      "private_outputs": true,
      "provenance": []
    },
    "kernelspec": {
      "name": "python3",
      "display_name": "Python 3"
    },
    "language_info": {
      "name": "python"
    }
  },
  "cells": [
    {
      "cell_type": "code",
      "execution_count": null,
      "metadata": {
        "id": "8oCplDUe6wSl"
      },
      "outputs": [],
      "source": [
        "import pandas as pd\n",
        "import networkx as nx\n"
      ]
    },
    {
      "cell_type": "code",
      "source": [
        "data=pd.read_csv('/content/Instagram_Data.csv');\n",
        "data.tail()"
      ],
      "metadata": {
        "id": "seZQmz8L-EBC"
      },
      "execution_count": null,
      "outputs": []
    },
    {
      "cell_type": "code",
      "source": [
        "import pandas as pd\n",
        "\n",
        "# Assuming df is your DataFrame\n",
        "# Replace 'YourColumnName' with the actual column name where you want to check for missing values\n",
        "data = data.dropna()\n",
        "\n",
        "# This will remove all rows where the specified column has missing values\n"
      ],
      "metadata": {
        "id": "uHNsNL-n_Kuk"
      },
      "execution_count": null,
      "outputs": []
    },
    {
      "cell_type": "code",
      "source": [
        "data['Month']=pd.to_datetime(data['Month']);\n"
      ],
      "metadata": {
        "id": "h7cQiEanBNeG"
      },
      "execution_count": null,
      "outputs": []
    },
    {
      "cell_type": "code",
      "source": [
        "grouped_df = data.groupby(['User uuid', 'Year', 'Month'])"
      ],
      "metadata": {
        "id": "0OGRUzCYB-m2"
      },
      "execution_count": null,
      "outputs": []
    },
    {
      "cell_type": "code",
      "source": [
        "import pandas as pd\n",
        "import networkx as nx\n",
        "import matplotlib.pyplot as plt\n",
        "grouped_df = data.groupby(['User uuid', 'Year', 'Month'])\n",
        "sum_like_score = grouped_df['Likes Score'].sum().reset_index()\n",
        "\n",
        "# Create a graph\n",
        "G = nx.from_pandas_edgelist(sum_like_score, 'User uuid', 'User uuid', ['Likes Score'])\n",
        "\n",
        "# Assign like scores as node attributes\n",
        "like_score_dict = dict(zip(sum_like_score['User uuid'], sum_like_score['Likes Score']))\n",
        "nx.set_node_attributes(G, like_score_dict, 'Likes Score')\n",
        "\n",
        "# Visualize the graph\n",
        "pos = nx.spring_layout(G)  # You can use other layouts like 'circular', 'random', etc.\n",
        "\n",
        "plt.figure(figsize=(12, 8))\n",
        "nx.draw(G, pos, with_labels=True, node_size=300, node_color='lightgreen', font_size=8, font_color='black')\n",
        "\n",
        "# Add node attributes (like scores) as labels\n",
        "labels = nx.get_node_attributes(G, 'Likes Score')\n",
        "nx.draw_networkx_labels(G, pos, labels, font_color='blue')\n",
        "\n",
        "plt.title(\"Graph of Useruuids with Like Score as Node Attributes\")\n",
        "plt.show()\n"
      ],
      "metadata": {
        "id": "jVL_V46jCnRJ"
      },
      "execution_count": null,
      "outputs": []
    },
    {
      "cell_type": "code",
      "source": [
        "# type(result)\n",
        "type(data)"
      ],
      "metadata": {
        "id": "iEGzsIjzGXpL"
      },
      "execution_count": null,
      "outputs": []
    },
    {
      "cell_type": "code",
      "source": [
        "result"
      ],
      "metadata": {
        "id": "75R7F0JwGsM0"
      },
      "execution_count": null,
      "outputs": []
    },
    {
      "cell_type": "code",
      "source": [],
      "metadata": {
        "id": "z_aORCYOJQcB"
      },
      "execution_count": null,
      "outputs": []
    }
  ]
}